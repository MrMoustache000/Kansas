{
 "cells": [
  {
   "cell_type": "markdown",
   "metadata": {},
   "source": [
    "# Preprocessing"
   ]
  },
  {
   "cell_type": "code",
   "execution_count": null,
   "metadata": {},
   "outputs": [],
   "source": [
    "# Unzip files in their respective folders\n",
    "from scripts.unzip_files import unzip_files_KGS \n",
    "\n",
    "source_folder = '../data/zip_files'\n",
    "destination_folder = '../data/v1.0_raw_data'\n",
    "\n",
    "unzip_files_KGS(source_folder, destination_folder)"
   ]
  },
  {
   "cell_type": "code",
   "execution_count": null,
   "metadata": {},
   "outputs": [],
   "source": [
    "# Download las files from KGS\n",
    "from scripts.download_las_files import download_and_organize_las_files\n",
    "\n",
    "source_folder = '../data/v1.0_raw_data'  \n",
    "destination_folder = '../data/v2.0_zip_files'\n",
    "\n",
    "# File to map las file names to urls\n",
    "database_path = '../data/zip_files/ks_las_files.txt'  \n",
    "\n",
    "# Download and organize las files\n",
    "download_and_organize_las_files(source_folder, destination_folder, database_path)"
   ]
  },
  {
   "cell_type": "code",
   "execution_count": 1,
   "metadata": {},
   "outputs": [
    {
     "name": "stdout",
     "output_type": "stream",
     "text": [
      "Arroyo               |\u001b[48;2;234;214;0m \u001b[48;2;229;211;4m \u001b[48;2;224;208;9m \u001b[48;2;220;206;14m \u001b[48;2;215;203;18m \u001b[48;2;211;201;23m \u001b[48;2;206;198;28m \u001b[48;2;201;196;32m \u001b[48;2;197;193;37m \u001b[48;2;192;190;42m \u001b[48;2;188;188;47m \u001b[48;2;183;185;51m \u001b[48;2;178;183;56m \u001b[48;2;174;180;61m \u001b[48;2;169;178;65m \u001b[48;2;165;175;70m \u001b[48;2;160;173;75m \u001b[48;2;155;170;79m \u001b[48;2;151;167;84m \u001b[48;2;146;165;89m \u001b[48;2;142;162;94m \u001b[48;2;137;160;98m \u001b[48;2;132;157;103m \u001b[48;2;128;155;108m \u001b[48;2;123;152;112m \u001b[48;2;119;150;117m \u001b[48;2;114;147;122m \u001b[48;2;109;144;126m \u001b[48;2;105;142;131m \u001b[48;2;100;139;136m \u001b[48;2;96;137;141m \u001b[48;2;91;134;145m \u001b[48;2;86;132;150m \u001b[48;2;82;129;155m \u001b[48;2;77;126;159m \u001b[48;2;73;124;164m \u001b[48;2;68;121;169m \u001b[48;2;63;119;173m \u001b[48;2;59;116;178m \u001b[48;2;54;114;183m \u001b[48;2;50;111;188m \u001b[48;2;45;109;192m \u001b[48;2;40;106;197m \u001b[48;2;36;103;202m \u001b[48;2;31;101;206m \u001b[48;2;27;98;211m \u001b[48;2;22;96;216m \u001b[48;2;17;93;220m \u001b[48;2;13;91;225m \u001b[48;2;8;88;230m \u001b[0m\n",
      "BemisShutts          |\u001b[48;2;234;214;0m \u001b[48;2;229;211;4m \u001b[48;2;224;208;9m \u001b[48;2;220;206;14m \u001b[48;2;215;203;18m \u001b[48;2;211;201;23m \u001b[48;2;206;198;28m \u001b[48;2;201;196;32m \u001b[48;2;197;193;37m \u001b[48;2;192;190;42m \u001b[48;2;188;188;47m \u001b[48;2;183;185;51m \u001b[48;2;178;183;56m \u001b[48;2;174;180;61m \u001b[48;2;169;178;65m \u001b[48;2;165;175;70m \u001b[48;2;160;173;75m \u001b[48;2;155;170;79m \u001b[48;2;151;167;84m \u001b[48;2;146;165;89m \u001b[48;2;142;162;94m \u001b[48;2;137;160;98m \u001b[48;2;132;157;103m \u001b[48;2;128;155;108m \u001b[48;2;123;152;112m \u001b[48;2;119;150;117m \u001b[48;2;114;147;122m \u001b[48;2;109;144;126m \u001b[48;2;105;142;131m \u001b[48;2;100;139;136m \u001b[48;2;96;137;141m \u001b[48;2;91;134;145m \u001b[48;2;86;132;150m \u001b[48;2;82;129;155m \u001b[48;2;77;126;159m \u001b[48;2;73;124;164m \u001b[48;2;68;121;169m \u001b[48;2;63;119;173m \u001b[48;2;59;116;178m \u001b[48;2;54;114;183m \u001b[48;2;50;111;188m \u001b[48;2;45;109;192m \u001b[48;2;40;106;197m \u001b[48;2;36;103;202m \u001b[48;2;31;101;206m \u001b[48;2;27;98;211m \u001b[48;2;22;96;216m \u001b[48;2;17;93;220m \u001b[48;2;13;91;225m \u001b[48;2;8;88;230m \u001b[0m\n",
      "BradshawGasArea      |\u001b[48;2;234;214;0m \u001b[48;2;229;211;4m \u001b[48;2;224;208;9m \u001b[48;2;220;206;14m \u001b[48;2;215;203;18m \u001b[48;2;211;201;23m \u001b[48;2;206;198;28m \u001b[48;2;201;196;32m \u001b[48;2;197;193;37m \u001b[48;2;192;190;42m \u001b[48;2;188;188;47m \u001b[48;2;183;185;51m \u001b[48;2;178;183;56m \u001b[48;2;174;180;61m \u001b[48;2;169;178;65m \u001b[48;2;165;175;70m \u001b[48;2;160;173;75m \u001b[48;2;155;170;79m \u001b[48;2;151;167;84m \u001b[48;2;146;165;89m \u001b[48;2;142;162;94m \u001b[48;2;137;160;98m \u001b[48;2;132;157;103m \u001b[48;2;128;155;108m \u001b[48;2;123;152;112m \u001b[48;2;119;150;117m \u001b[48;2;114;147;122m \u001b[48;2;109;144;126m \u001b[48;2;105;142;131m \u001b[48;2;100;139;136m \u001b[48;2;96;137;141m \u001b[48;2;91;134;145m \u001b[48;2;86;132;150m \u001b[48;2;82;129;155m \u001b[48;2;77;126;159m \u001b[48;2;73;124;164m \u001b[48;2;68;121;169m \u001b[48;2;63;119;173m \u001b[48;2;59;116;178m \u001b[48;2;54;114;183m \u001b[48;2;50;111;188m \u001b[48;2;45;109;192m \u001b[48;2;40;106;197m \u001b[48;2;36;103;202m \u001b[48;2;31;101;206m \u001b[48;2;27;98;211m \u001b[48;2;22;96;216m \u001b[48;2;17;93;220m \u001b[48;2;13;91;225m \u001b[48;2;8;88;230m \u001b[0m\n",
      "Burrton              |\u001b[48;2;234;214;0m \u001b[48;2;229;211;4m \u001b[48;2;224;208;9m \u001b[48;2;220;206;14m \u001b[48;2;215;203;18m \u001b[48;2;211;201;23m \u001b[48;2;206;198;28m \u001b[48;2;201;196;32m \u001b[48;2;197;193;37m \u001b[48;2;192;190;42m \u001b[48;2;188;188;47m \u001b[48;2;183;185;51m \u001b[48;2;178;183;56m \u001b[48;2;174;180;61m \u001b[48;2;169;178;65m \u001b[48;2;165;175;70m \u001b[48;2;160;173;75m \u001b[48;2;155;170;79m \u001b[48;2;151;167;84m \u001b[48;2;146;165;89m \u001b[48;2;142;162;94m \u001b[48;2;137;160;98m \u001b[48;2;132;157;103m \u001b[48;2;128;155;108m \u001b[48;2;123;152;112m \u001b[48;2;119;150;117m \u001b[48;2;114;147;122m \u001b[48;2;109;144;126m \u001b[48;2;105;142;131m \u001b[48;2;100;139;136m \u001b[48;2;96;137;141m \u001b[48;2;91;134;145m \u001b[48;2;86;132;150m \u001b[48;2;82;129;155m \u001b[48;2;77;126;159m \u001b[48;2;73;124;164m \u001b[48;2;68;121;169m \u001b[48;2;63;119;173m \u001b[48;2;59;116;178m \u001b[48;2;54;114;183m \u001b[48;2;50;111;188m \u001b[48;2;45;109;192m \u001b[48;2;40;106;197m \u001b[48;2;36;103;202m \u001b[48;2;31;101;206m \u001b[48;2;27;98;211m \u001b[48;2;22;96;216m \u001b[48;2;17;93;220m \u001b[48;2;13;91;225m \u001b[48;2;8;88;230m \u001b[0m\n",
      "Cooper               |\u001b[48;2;234;214;0m \u001b[48;2;229;211;4m \u001b[48;2;224;208;9m \u001b[48;2;220;206;14m \u001b[48;2;215;203;18m \u001b[48;2;211;201;23m \u001b[48;2;206;198;28m \u001b[48;2;201;196;32m \u001b[48;2;197;193;37m \u001b[48;2;192;190;42m \u001b[48;2;188;188;47m \u001b[48;2;183;185;51m \u001b[48;2;178;183;56m \u001b[48;2;174;180;61m \u001b[48;2;169;178;65m \u001b[48;2;165;175;70m \u001b[48;2;160;173;75m \u001b[48;2;155;170;79m \u001b[48;2;151;167;84m \u001b[48;2;146;165;89m \u001b[48;2;142;162;94m \u001b[48;2;137;160;98m \u001b[48;2;132;157;103m \u001b[48;2;128;155;108m \u001b[48;2;123;152;112m \u001b[48;2;119;150;117m \u001b[48;2;114;147;122m \u001b[48;2;109;144;126m \u001b[48;2;105;142;131m \u001b[48;2;100;139;136m \u001b[48;2;96;137;141m \u001b[48;2;91;134;145m \u001b[48;2;86;132;150m \u001b[48;2;82;129;155m \u001b[48;2;77;126;159m \u001b[48;2;73;124;164m \u001b[48;2;68;121;169m \u001b[48;2;63;119;173m \u001b[48;2;59;116;178m \u001b[48;2;54;114;183m \u001b[48;2;50;111;188m \u001b[48;2;45;109;192m \u001b[48;2;40;106;197m \u001b[48;2;36;103;202m \u001b[48;2;31;101;206m \u001b[48;2;27;98;211m \u001b[48;2;22;96;216m \u001b[48;2;17;93;220m \u001b[48;2;13;91;225m \u001b[48;2;8;88;230m \u001b[0m\n",
      "EastFork             |\u001b[48;2;234;214;0m \u001b[48;2;229;211;4m \u001b[48;2;224;208;9m \u001b[48;2;220;206;14m \u001b[48;2;215;203;18m \u001b[48;2;211;201;23m \u001b[48;2;206;198;28m \u001b[48;2;201;196;32m \u001b[48;2;197;193;37m \u001b[48;2;192;190;42m \u001b[48;2;188;188;47m \u001b[48;2;183;185;51m \u001b[48;2;178;183;56m \u001b[48;2;174;180;61m \u001b[48;2;169;178;65m \u001b[48;2;165;175;70m \u001b[48;2;160;173;75m \u001b[48;2;155;170;79m \u001b[48;2;151;167;84m \u001b[48;2;146;165;89m \u001b[48;2;142;162;94m \u001b[48;2;137;160;98m \u001b[48;2;132;157;103m \u001b[48;2;128;155;108m \u001b[48;2;123;152;112m \u001b[48;2;119;150;117m \u001b[48;2;114;147;122m \u001b[48;2;109;144;126m \u001b[48;2;105;142;131m \u001b[48;2;100;139;136m \u001b[48;2;96;137;141m \u001b[48;2;91;134;145m \u001b[48;2;86;132;150m \u001b[48;2;82;129;155m \u001b[48;2;77;126;159m \u001b[48;2;73;124;164m \u001b[48;2;68;121;169m \u001b[48;2;63;119;173m \u001b[48;2;59;116;178m \u001b[48;2;54;114;183m \u001b[48;2;50;111;188m \u001b[48;2;45;109;192m \u001b[48;2;40;106;197m \u001b[48;2;36;103;202m \u001b[48;2;31;101;206m \u001b[48;2;27;98;211m \u001b[48;2;22;96;216m \u001b[48;2;17;93;220m \u001b[48;2;13;91;225m \u001b[48;2;8;88;230m \u001b[0m\n",
      "ElDorado             |\u001b[48;2;234;214;0m \u001b[48;2;229;211;4m \u001b[48;2;224;208;9m \u001b[48;2;220;206;14m \u001b[48;2;215;203;18m \u001b[48;2;211;201;23m \u001b[48;2;206;198;28m \u001b[48;2;201;196;32m \u001b[48;2;197;193;37m \u001b[48;2;192;190;42m \u001b[48;2;188;188;47m \u001b[48;2;183;185;51m \u001b[48;2;178;183;56m \u001b[48;2;174;180;61m \u001b[48;2;169;178;65m \u001b[48;2;165;175;70m \u001b[48;2;160;173;75m \u001b[48;2;155;170;79m \u001b[48;2;151;167;84m \u001b[48;2;146;165;89m \u001b[48;2;142;162;94m \u001b[48;2;137;160;98m \u001b[48;2;132;157;103m \u001b[48;2;128;155;108m \u001b[48;2;123;152;112m \u001b[48;2;119;150;117m \u001b[48;2;114;147;122m \u001b[48;2;109;144;126m \u001b[48;2;105;142;131m \u001b[48;2;100;139;136m \u001b[48;2;96;137;141m \u001b[48;2;91;134;145m \u001b[48;2;86;132;150m \u001b[48;2;82;129;155m \u001b[48;2;77;126;159m \u001b[48;2;73;124;164m \u001b[48;2;68;121;169m \u001b[48;2;63;119;173m \u001b[48;2;59;116;178m \u001b[48;2;54;114;183m \u001b[48;2;50;111;188m \u001b[48;2;45;109;192m \u001b[48;2;40;106;197m \u001b[48;2;36;103;202m \u001b[48;2;31;101;206m \u001b[48;2;27;98;211m \u001b[48;2;22;96;216m \u001b[48;2;17;93;220m \u001b[48;2;13;91;225m \u001b[48;2;8;88;230m \u001b[0m\n",
      "Cutter               |\u001b[48;2;234;214;0m \u001b[48;2;229;211;4m \u001b[48;2;224;208;9m \u001b[48;2;220;206;14m \u001b[48;2;215;203;18m \u001b[48;2;211;201;23m \u001b[48;2;206;198;28m \u001b[48;2;201;196;32m \u001b[48;2;197;193;37m \u001b[48;2;192;190;42m \u001b[48;2;188;188;47m \u001b[48;2;183;185;51m \u001b[48;2;178;183;56m \u001b[48;2;174;180;61m \u001b[48;2;169;178;65m \u001b[48;2;165;175;70m \u001b[48;2;160;173;75m \u001b[48;2;155;170;79m \u001b[48;2;151;167;84m \u001b[48;2;146;165;89m \u001b[48;2;142;162;94m \u001b[48;2;137;160;98m \u001b[48;2;132;157;103m \u001b[48;2;128;155;108m \u001b[48;2;123;152;112m \u001b[48;2;119;150;117m \u001b[48;2;114;147;122m \u001b[48;2;109;144;126m \u001b[48;2;105;142;131m \u001b[48;2;100;139;136m \u001b[48;2;96;137;141m \u001b[48;2;91;134;145m \u001b[48;2;86;132;150m \u001b[48;2;82;129;155m \u001b[48;2;77;126;159m \u001b[48;2;73;124;164m \u001b[48;2;68;121;169m \u001b[48;2;63;119;173m \u001b[48;2;59;116;178m \u001b[48;2;54;114;183m \u001b[48;2;50;111;188m \u001b[48;2;45;109;192m \u001b[48;2;40;106;197m \u001b[48;2;36;103;202m \u001b[48;2;31;101;206m \u001b[48;2;27;98;211m \u001b[48;2;22;96;216m \u001b[48;2;17;93;220m \u001b[48;2;13;91;225m \u001b[48;2;8;88;230m \u001b[0m\n",
      "GarnettShoestring    |\u001b[48;2;234;214;0m \u001b[48;2;229;211;4m \u001b[48;2;224;208;9m \u001b[48;2;220;206;14m \u001b[48;2;215;203;18m \u001b[48;2;211;201;23m \u001b[48;2;206;198;28m \u001b[48;2;201;196;32m \u001b[48;2;197;193;37m \u001b[48;2;192;190;42m \u001b[48;2;188;188;47m \u001b[48;2;183;185;51m \u001b[48;2;178;183;56m \u001b[48;2;174;180;61m \u001b[48;2;169;178;65m \u001b[48;2;165;175;70m \u001b[48;2;160;173;75m \u001b[48;2;155;170;79m \u001b[48;2;151;167;84m \u001b[48;2;146;165;89m \u001b[48;2;142;162;94m \u001b[48;2;137;160;98m \u001b[48;2;132;157;103m \u001b[48;2;128;155;108m \u001b[48;2;123;152;112m \u001b[48;2;119;150;117m \u001b[48;2;114;147;122m \u001b[48;2;109;144;126m \u001b[48;2;105;142;131m \u001b[48;2;100;139;136m \u001b[48;2;96;137;141m \u001b[48;2;91;134;145m \u001b[48;2;86;132;150m \u001b[48;2;82;129;155m \u001b[48;2;77;126;159m \u001b[48;2;73;124;164m \u001b[48;2;68;121;169m \u001b[48;2;63;119;173m \u001b[48;2;59;116;178m \u001b[48;2;54;114;183m \u001b[48;2;50;111;188m \u001b[48;2;45;109;192m \u001b[48;2;40;106;197m \u001b[48;2;36;103;202m \u001b[48;2;31;101;206m \u001b[48;2;27;98;211m \u001b[48;2;22;96;216m \u001b[48;2;17;93;220m \u001b[48;2;13;91;225m \u001b[48;2;8;88;230m \u001b[0m\n",
      "HallGurney           |\u001b[48;2;234;214;0m \u001b[48;2;229;211;4m \u001b[48;2;224;208;9m \u001b[48;2;220;206;14m \u001b[48;2;215;203;18m \u001b[48;2;211;201;23m \u001b[48;2;206;198;28m \u001b[48;2;201;196;32m \u001b[48;2;197;193;37m \u001b[48;2;192;190;42m \u001b[48;2;188;188;47m \u001b[48;2;183;185;51m \u001b[48;2;178;183;56m \u001b[48;2;174;180;61m \u001b[48;2;169;178;65m \u001b[48;2;165;175;70m \u001b[48;2;160;173;75m \u001b[48;2;155;170;79m \u001b[48;2;151;167;84m \u001b[48;2;146;165;89m \u001b[48;2;142;162;94m \u001b[48;2;137;160;98m \u001b[48;2;132;157;103m \u001b[48;2;128;155;108m \u001b[48;2;123;152;112m \u001b[48;2;119;150;117m \u001b[48;2;114;147;122m \u001b[48;2;109;144;126m \u001b[48;2;105;142;131m \u001b[48;2;100;139;136m \u001b[48;2;96;137;141m \u001b[48;2;91;134;145m \u001b[48;2;86;132;150m \u001b[48;2;82;129;155m \u001b[48;2;77;126;159m \u001b[48;2;73;124;164m \u001b[48;2;68;121;169m \u001b[48;2;63;119;173m \u001b[48;2;59;116;178m \u001b[48;2;54;114;183m \u001b[48;2;50;111;188m \u001b[48;2;45;109;192m \u001b[48;2;40;106;197m \u001b[48;2;36;103;202m \u001b[48;2;31;101;206m \u001b[48;2;27;98;211m \u001b[48;2;22;96;216m \u001b[48;2;17;93;220m \u001b[48;2;13;91;225m \u001b[48;2;8;88;230m \u001b[0m\n",
      "JonesCanyonSoutheast |\u001b[48;2;234;214;0m \u001b[48;2;229;211;4m \u001b[48;2;224;208;9m \u001b[48;2;220;206;14m \u001b[48;2;215;203;18m \u001b[48;2;211;201;23m \u001b[48;2;206;198;28m \u001b[48;2;201;196;32m \u001b[48;2;197;193;37m \u001b[48;2;192;190;42m \u001b[48;2;188;188;47m \u001b[48;2;183;185;51m \u001b[48;2;178;183;56m \u001b[48;2;174;180;61m \u001b[48;2;169;178;65m \u001b[48;2;165;175;70m \u001b[48;2;160;173;75m \u001b[48;2;155;170;79m \u001b[48;2;151;167;84m \u001b[48;2;146;165;89m \u001b[48;2;142;162;94m \u001b[48;2;137;160;98m \u001b[48;2;132;157;103m \u001b[48;2;128;155;108m \u001b[48;2;123;152;112m \u001b[48;2;119;150;117m \u001b[48;2;114;147;122m \u001b[48;2;109;144;126m \u001b[48;2;105;142;131m \u001b[48;2;100;139;136m \u001b[48;2;96;137;141m \u001b[48;2;91;134;145m \u001b[48;2;86;132;150m \u001b[48;2;82;129;155m \u001b[48;2;77;126;159m \u001b[48;2;73;124;164m \u001b[48;2;68;121;169m \u001b[48;2;63;119;173m \u001b[48;2;59;116;178m \u001b[48;2;54;114;183m \u001b[48;2;50;111;188m \u001b[48;2;45;109;192m \u001b[48;2;40;106;197m \u001b[48;2;36;103;202m \u001b[48;2;31;101;206m \u001b[48;2;27;98;211m \u001b[48;2;22;96;216m \u001b[48;2;17;93;220m \u001b[48;2;13;91;225m \u001b[48;2;8;88;230m \u001b[0m\n",
      "KraftPrusa           |\u001b[48;2;234;214;0m \u001b[48;2;229;211;4m \u001b[48;2;224;208;9m \u001b[48;2;220;206;14m \u001b[48;2;215;203;18m \u001b[48;2;211;201;23m \u001b[48;2;206;198;28m \u001b[48;2;201;196;32m \u001b[48;2;197;193;37m \u001b[48;2;192;190;42m \u001b[48;2;188;188;47m \u001b[48;2;183;185;51m \u001b[48;2;178;183;56m \u001b[48;2;174;180;61m \u001b[48;2;169;178;65m \u001b[48;2;165;175;70m \u001b[48;2;160;173;75m \u001b[48;2;155;170;79m \u001b[48;2;151;167;84m \u001b[48;2;146;165;89m \u001b[48;2;142;162;94m \u001b[48;2;137;160;98m \u001b[48;2;132;157;103m \u001b[48;2;128;155;108m \u001b[48;2;123;152;112m \u001b[48;2;119;150;117m \u001b[48;2;114;147;122m \u001b[48;2;109;144;126m \u001b[48;2;105;142;131m \u001b[48;2;100;139;136m \u001b[48;2;96;137;141m \u001b[48;2;91;134;145m \u001b[48;2;86;132;150m \u001b[48;2;82;129;155m \u001b[48;2;77;126;159m \u001b[48;2;73;124;164m \u001b[48;2;68;121;169m \u001b[48;2;63;119;173m \u001b[48;2;59;116;178m \u001b[48;2;54;114;183m \u001b[48;2;50;111;188m \u001b[48;2;45;109;192m \u001b[48;2;40;106;197m \u001b[48;2;36;103;202m \u001b[48;2;31;101;206m \u001b[48;2;27;98;211m \u001b[48;2;22;96;216m \u001b[48;2;17;93;220m \u001b[48;2;13;91;225m \u001b[48;2;8;88;230m \u001b[0m\n",
      "Marcotte             |\u001b[48;2;234;214;0m \u001b[48;2;229;211;4m \u001b[48;2;224;208;9m \u001b[48;2;220;206;14m \u001b[48;2;215;203;18m \u001b[48;2;211;201;23m \u001b[48;2;206;198;28m \u001b[48;2;201;196;32m \u001b[48;2;197;193;37m \u001b[48;2;192;190;42m \u001b[48;2;188;188;47m \u001b[48;2;183;185;51m \u001b[48;2;178;183;56m \u001b[48;2;174;180;61m \u001b[48;2;169;178;65m \u001b[48;2;165;175;70m \u001b[48;2;160;173;75m \u001b[48;2;155;170;79m \u001b[48;2;151;167;84m \u001b[48;2;146;165;89m \u001b[48;2;142;162;94m \u001b[48;2;137;160;98m \u001b[48;2;132;157;103m \u001b[48;2;128;155;108m \u001b[48;2;123;152;112m \u001b[48;2;119;150;117m \u001b[48;2;114;147;122m \u001b[48;2;109;144;126m \u001b[48;2;105;142;131m \u001b[48;2;100;139;136m \u001b[48;2;96;137;141m \u001b[48;2;91;134;145m \u001b[48;2;86;132;150m \u001b[48;2;82;129;155m \u001b[48;2;77;126;159m \u001b[48;2;73;124;164m \u001b[48;2;68;121;169m \u001b[48;2;63;119;173m \u001b[48;2;59;116;178m \u001b[48;2;54;114;183m \u001b[48;2;50;111;188m \u001b[48;2;45;109;192m \u001b[48;2;40;106;197m \u001b[48;2;36;103;202m \u001b[48;2;31;101;206m \u001b[48;2;27;98;211m \u001b[48;2;22;96;216m \u001b[48;2;17;93;220m \u001b[48;2;13;91;225m \u001b[48;2;8;88;230m \u001b[0m\n",
      "MedicineLodgeNorth   |\u001b[48;2;234;214;0m \u001b[48;2;229;211;4m \u001b[48;2;224;208;9m \u001b[48;2;220;206;14m \u001b[48;2;215;203;18m \u001b[48;2;211;201;23m \u001b[48;2;206;198;28m \u001b[48;2;201;196;32m \u001b[48;2;197;193;37m \u001b[48;2;192;190;42m \u001b[48;2;188;188;47m \u001b[48;2;183;185;51m \u001b[48;2;178;183;56m \u001b[48;2;174;180;61m \u001b[48;2;169;178;65m \u001b[48;2;165;175;70m \u001b[48;2;160;173;75m \u001b[48;2;155;170;79m \u001b[48;2;151;167;84m \u001b[48;2;146;165;89m \u001b[48;2;142;162;94m \u001b[48;2;137;160;98m \u001b[48;2;132;157;103m \u001b[48;2;128;155;108m \u001b[48;2;123;152;112m \u001b[48;2;119;150;117m \u001b[48;2;114;147;122m \u001b[48;2;109;144;126m \u001b[48;2;105;142;131m \u001b[48;2;100;139;136m \u001b[48;2;96;137;141m \u001b[48;2;91;134;145m \u001b[48;2;86;132;150m \u001b[48;2;82;129;155m \u001b[48;2;77;126;159m \u001b[48;2;73;124;164m \u001b[48;2;68;121;169m \u001b[48;2;63;119;173m \u001b[48;2;59;116;178m \u001b[48;2;54;114;183m \u001b[48;2;50;111;188m \u001b[48;2;45;109;192m \u001b[48;2;40;106;197m \u001b[48;2;36;103;202m \u001b[48;2;31;101;206m \u001b[48;2;27;98;211m \u001b[48;2;22;96;216m \u001b[48;2;17;93;220m \u001b[48;2;13;91;225m \u001b[48;2;8;88;230m \u001b[0m\n",
      "Morel                |\u001b[48;2;234;214;0m \u001b[48;2;229;211;4m \u001b[48;2;224;208;9m \u001b[48;2;220;206;14m \u001b[48;2;215;203;18m \u001b[48;2;211;201;23m \u001b[48;2;206;198;28m \u001b[48;2;201;196;32m \u001b[48;2;197;193;37m \u001b[48;2;192;190;42m \u001b[48;2;188;188;47m \u001b[48;2;183;185;51m \u001b[48;2;178;183;56m \u001b[48;2;174;180;61m \u001b[48;2;169;178;65m \u001b[48;2;165;175;70m \u001b[48;2;160;173;75m \u001b[48;2;155;170;79m \u001b[48;2;151;167;84m \u001b[48;2;146;165;89m \u001b[48;2;142;162;94m \u001b[48;2;137;160;98m \u001b[48;2;132;157;103m \u001b[48;2;128;155;108m \u001b[48;2;123;152;112m \u001b[48;2;119;150;117m \u001b[48;2;114;147;122m \u001b[48;2;109;144;126m \u001b[48;2;105;142;131m \u001b[48;2;100;139;136m \u001b[48;2;96;137;141m \u001b[48;2;91;134;145m \u001b[48;2;86;132;150m \u001b[48;2;82;129;155m \u001b[48;2;77;126;159m \u001b[48;2;73;124;164m \u001b[48;2;68;121;169m \u001b[48;2;63;119;173m \u001b[48;2;59;116;178m \u001b[48;2;54;114;183m \u001b[48;2;50;111;188m \u001b[48;2;45;109;192m \u001b[48;2;40;106;197m \u001b[48;2;36;103;202m \u001b[48;2;31;101;206m \u001b[48;2;27;98;211m \u001b[48;2;22;96;216m \u001b[48;2;17;93;220m \u001b[48;2;13;91;225m \u001b[48;2;8;88;230m \u001b[0m\n",
      "Scoda                |\u001b[48;2;234;214;0m \u001b[48;2;229;211;4m \u001b[48;2;224;208;9m \u001b[48;2;220;206;14m \u001b[48;2;215;203;18m \u001b[48;2;211;201;23m \u001b[48;2;206;198;28m \u001b[48;2;201;196;32m \u001b[48;2;197;193;37m \u001b[48;2;192;190;42m \u001b[48;2;188;188;47m \u001b[48;2;183;185;51m \u001b[48;2;178;183;56m \u001b[48;2;174;180;61m \u001b[48;2;169;178;65m \u001b[48;2;165;175;70m \u001b[48;2;160;173;75m \u001b[48;2;155;170;79m \u001b[48;2;151;167;84m \u001b[48;2;146;165;89m \u001b[48;2;142;162;94m \u001b[48;2;137;160;98m \u001b[48;2;132;157;103m \u001b[48;2;128;155;108m \u001b[48;2;123;152;112m \u001b[48;2;119;150;117m \u001b[48;2;114;147;122m \u001b[48;2;109;144;126m \u001b[48;2;105;142;131m \u001b[48;2;100;139;136m \u001b[48;2;96;137;141m \u001b[48;2;91;134;145m \u001b[48;2;86;132;150m \u001b[48;2;82;129;155m \u001b[48;2;77;126;159m \u001b[48;2;73;124;164m \u001b[48;2;68;121;169m \u001b[48;2;63;119;173m \u001b[48;2;59;116;178m \u001b[48;2;54;114;183m \u001b[48;2;50;111;188m \u001b[48;2;45;109;192m \u001b[48;2;40;106;197m \u001b[48;2;36;103;202m \u001b[48;2;31;101;206m \u001b[48;2;27;98;211m \u001b[48;2;22;96;216m \u001b[48;2;17;93;220m \u001b[48;2;13;91;225m \u001b[48;2;8;88;230m \u001b[0m\n",
      "Shuck                |\u001b[48;2;234;214;0m \u001b[48;2;229;211;4m \u001b[48;2;224;208;9m \u001b[48;2;220;206;14m \u001b[48;2;215;203;18m \u001b[48;2;211;201;23m \u001b[48;2;206;198;28m \u001b[48;2;201;196;32m \u001b[48;2;197;193;37m \u001b[48;2;192;190;42m \u001b[48;2;188;188;47m \u001b[48;2;183;185;51m \u001b[48;2;178;183;56m \u001b[48;2;174;180;61m \u001b[48;2;169;178;65m \u001b[48;2;165;175;70m \u001b[48;2;160;173;75m \u001b[48;2;155;170;79m \u001b[48;2;151;167;84m \u001b[48;2;146;165;89m \u001b[48;2;142;162;94m \u001b[48;2;137;160;98m \u001b[48;2;132;157;103m \u001b[48;2;128;155;108m \u001b[48;2;123;152;112m \u001b[48;2;119;150;117m \u001b[48;2;114;147;122m \u001b[48;2;109;144;126m \u001b[48;2;105;142;131m \u001b[48;2;100;139;136m \u001b[48;2;96;137;141m \u001b[48;2;91;134;145m \u001b[48;2;86;132;150m \u001b[48;2;82;129;155m \u001b[48;2;77;126;159m \u001b[48;2;73;124;164m \u001b[48;2;68;121;169m \u001b[48;2;63;119;173m \u001b[48;2;59;116;178m \u001b[48;2;54;114;183m \u001b[48;2;50;111;188m \u001b[48;2;45;109;192m \u001b[48;2;40;106;197m \u001b[48;2;36;103;202m \u001b[48;2;31;101;206m \u001b[48;2;27;98;211m \u001b[48;2;22;96;216m \u001b[48;2;17;93;220m \u001b[48;2;13;91;225m \u001b[48;2;8;88;230m \u001b[0m\n",
      "ThrallAagard         |\u001b[48;2;234;214;0m \u001b[48;2;229;211;4m \u001b[48;2;224;208;9m \u001b[48;2;220;206;14m \u001b[48;2;215;203;18m \u001b[48;2;211;201;23m \u001b[48;2;206;198;28m \u001b[48;2;201;196;32m \u001b[48;2;197;193;37m \u001b[48;2;192;190;42m \u001b[48;2;188;188;47m \u001b[48;2;183;185;51m \u001b[48;2;178;183;56m \u001b[48;2;174;180;61m \u001b[48;2;169;178;65m \u001b[48;2;165;175;70m \u001b[48;2;160;173;75m \u001b[48;2;155;170;79m \u001b[48;2;151;167;84m \u001b[48;2;146;165;89m \u001b[48;2;142;162;94m \u001b[48;2;137;160;98m \u001b[48;2;132;157;103m \u001b[48;2;128;155;108m \u001b[48;2;123;152;112m \u001b[48;2;119;150;117m \u001b[48;2;114;147;122m \u001b[48;2;109;144;126m \u001b[48;2;105;142;131m \u001b[48;2;100;139;136m \u001b[48;2;96;137;141m \u001b[48;2;91;134;145m \u001b[48;2;86;132;150m \u001b[48;2;82;129;155m \u001b[48;2;77;126;159m \u001b[48;2;73;124;164m \u001b[48;2;68;121;169m \u001b[48;2;63;119;173m \u001b[48;2;59;116;178m \u001b[48;2;54;114;183m \u001b[48;2;50;111;188m \u001b[48;2;45;109;192m \u001b[48;2;40;106;197m \u001b[48;2;36;103;202m \u001b[48;2;31;101;206m \u001b[48;2;27;98;211m \u001b[48;2;22;96;216m \u001b[48;2;17;93;220m \u001b[48;2;13;91;225m \u001b[48;2;8;88;230m \u001b[0m\n",
      "Webster              |\u001b[48;2;234;214;0m \u001b[48;2;229;211;4m \u001b[48;2;224;208;9m \u001b[48;2;220;206;14m \u001b[48;2;215;203;18m \u001b[48;2;211;201;23m \u001b[48;2;206;198;28m \u001b[48;2;201;196;32m \u001b[48;2;197;193;37m \u001b[48;2;192;190;42m \u001b[48;2;188;188;47m \u001b[48;2;183;185;51m \u001b[48;2;178;183;56m \u001b[48;2;174;180;61m \u001b[48;2;169;178;65m \u001b[48;2;165;175;70m \u001b[48;2;160;173;75m \u001b[48;2;155;170;79m \u001b[48;2;151;167;84m \u001b[48;2;146;165;89m \u001b[48;2;142;162;94m \u001b[48;2;137;160;98m \u001b[48;2;132;157;103m \u001b[48;2;128;155;108m \u001b[48;2;123;152;112m \u001b[48;2;119;150;117m \u001b[48;2;114;147;122m \u001b[48;2;109;144;126m \u001b[48;2;105;142;131m \u001b[48;2;100;139;136m \u001b[48;2;96;137;141m \u001b[48;2;91;134;145m \u001b[48;2;86;132;150m \u001b[48;2;82;129;155m \u001b[48;2;77;126;159m \u001b[48;2;73;124;164m \u001b[48;2;68;121;169m \u001b[48;2;63;119;173m \u001b[48;2;59;116;178m \u001b[48;2;54;114;183m \u001b[48;2;50;111;188m \u001b[48;2;45;109;192m \u001b[48;2;40;106;197m \u001b[48;2;36;103;202m \u001b[48;2;31;101;206m \u001b[48;2;27;98;211m \u001b[48;2;22;96;216m \u001b[48;2;17;93;220m \u001b[48;2;13;91;225m \u001b[48;2;8;88;230m \u001b[0m\n",
      "ZenithPeaceCreek     |\u001b[48;2;234;214;0m \u001b[48;2;229;211;4m \u001b[48;2;224;208;9m \u001b[48;2;220;206;14m \u001b[48;2;215;203;18m \u001b[48;2;211;201;23m \u001b[48;2;206;198;28m \u001b[48;2;201;196;32m \u001b[48;2;197;193;37m \u001b[48;2;192;190;42m \u001b[48;2;188;188;47m \u001b[48;2;183;185;51m \u001b[48;2;178;183;56m \u001b[48;2;174;180;61m \u001b[48;2;169;178;65m \u001b[48;2;165;175;70m \u001b[48;2;160;173;75m \u001b[48;2;155;170;79m \u001b[48;2;151;167;84m \u001b[48;2;146;165;89m \u001b[48;2;142;162;94m \u001b[48;2;137;160;98m \u001b[48;2;132;157;103m \u001b[48;2;128;155;108m \u001b[48;2;123;152;112m \u001b[48;2;119;150;117m \u001b[48;2;114;147;122m \u001b[48;2;109;144;126m \u001b[48;2;105;142;131m \u001b[48;2;100;139;136m \u001b[48;2;96;137;141m \u001b[48;2;91;134;145m \u001b[48;2;86;132;150m \u001b[48;2;82;129;155m \u001b[48;2;77;126;159m \u001b[48;2;73;124;164m \u001b[48;2;68;121;169m \u001b[48;2;63;119;173m \u001b[48;2;59;116;178m \u001b[48;2;54;114;183m \u001b[48;2;50;111;188m \u001b[48;2;45;109;192m \u001b[48;2;40;106;197m \u001b[48;2;36;103;202m \u001b[48;2;31;101;206m \u001b[48;2;27;98;211m \u001b[48;2;22;96;216m \u001b[48;2;17;93;220m \u001b[48;2;13;91;225m \u001b[48;2;8;88;230m \u001b[0m\n",
      "Schaben              |\u001b[48;2;234;214;0m \u001b[48;2;229;211;4m \u001b[48;2;224;208;9m \u001b[48;2;220;206;14m \u001b[48;2;215;203;18m \u001b[48;2;211;201;23m \u001b[48;2;206;198;28m \u001b[48;2;201;196;32m \u001b[48;2;197;193;37m \u001b[48;2;192;190;42m \u001b[48;2;188;188;47m \u001b[48;2;183;185;51m \u001b[48;2;178;183;56m \u001b[48;2;174;180;61m \u001b[48;2;169;178;65m \u001b[48;2;165;175;70m \u001b[48;2;160;173;75m \u001b[48;2;155;170;79m \u001b[48;2;151;167;84m \u001b[48;2;146;165;89m \u001b[48;2;142;162;94m \u001b[48;2;137;160;98m \u001b[48;2;132;157;103m \u001b[48;2;128;155;108m \u001b[48;2;123;152;112m \u001b[48;2;119;150;117m \u001b[48;2;114;147;122m \u001b[48;2;109;144;126m \u001b[48;2;105;142;131m \u001b[48;2;100;139;136m \u001b[48;2;96;137;141m \u001b[48;2;91;134;145m \u001b[48;2;86;132;150m \u001b[48;2;82;129;155m \u001b[48;2;77;126;159m \u001b[48;2;73;124;164m \u001b[48;2;68;121;169m \u001b[48;2;63;119;173m \u001b[48;2;59;116;178m \u001b[48;2;54;114;183m \u001b[48;2;50;111;188m \u001b[48;2;45;109;192m \u001b[48;2;40;106;197m \u001b[48;2;36;103;202m \u001b[48;2;31;101;206m \u001b[48;2;27;98;211m \u001b[48;2;22;96;216m \u001b[48;2;17;93;220m \u001b[48;2;13;91;225m \u001b[48;2;8;88;230m \u001b[0m\n",
      "Wellington           |\u001b[48;2;234;214;0m \u001b[48;2;229;211;4m \u001b[48;2;224;208;9m \u001b[48;2;220;206;14m \u001b[48;2;215;203;18m \u001b[48;2;211;201;23m \u001b[48;2;206;198;28m \u001b[48;2;201;196;32m \u001b[48;2;197;193;37m \u001b[48;2;192;190;42m \u001b[48;2;188;188;47m \u001b[48;2;183;185;51m \u001b[48;2;178;183;56m \u001b[48;2;174;180;61m \u001b[48;2;169;178;65m \u001b[48;2;165;175;70m \u001b[48;2;160;173;75m \u001b[48;2;155;170;79m \u001b[48;2;151;167;84m \u001b[48;2;146;165;89m \u001b[48;2;142;162;94m \u001b[48;2;137;160;98m \u001b[48;2;132;157;103m \u001b[48;2;128;155;108m \u001b[48;2;123;152;112m \u001b[48;2;119;150;117m \u001b[48;2;114;147;122m \u001b[48;2;109;144;126m \u001b[48;2;105;142;131m \u001b[48;2;100;139;136m \u001b[48;2;96;137;141m \u001b[48;2;91;134;145m \u001b[48;2;86;132;150m \u001b[48;2;82;129;155m \u001b[48;2;77;126;159m \u001b[48;2;73;124;164m \u001b[48;2;68;121;169m \u001b[48;2;63;119;173m \u001b[48;2;59;116;178m \u001b[48;2;54;114;183m \u001b[48;2;50;111;188m \u001b[48;2;45;109;192m \u001b[48;2;40;106;197m \u001b[48;2;36;103;202m \u001b[48;2;31;101;206m \u001b[48;2;27;98;211m \u001b[48;2;22;96;216m \u001b[48;2;17;93;220m \u001b[48;2;13;91;225m \u001b[48;2;8;88;230m \u001b[0m\n",
      "Download process completed. Please check '\u001b[94mreports/02_LAS_update_error_report.json\u001b[0m' for details.\n"
     ]
    }
   ],
   "source": [
    "from scripts.ajust_las_files import process_las_files\n",
    "\n",
    "source_folder = '../data/v2.0_zip_files'\n",
    "destination_folder = '../data/v3.0_las_files'\n",
    "csv_folder = '../data/v1.0_raw_data'\n",
    "\n",
    "process_las_files(source_folder, destination_folder, csv_folder)"
   ]
  },
  {
   "cell_type": "markdown",
   "metadata": {},
   "source": [
    "## Select Field"
   ]
  },
  {
   "cell_type": "markdown",
   "metadata": {},
   "source": [
    "### PENDIENTES:\n",
    "\n",
    "- LLM with RAG to check formation.\n",
    "- Add adatable range to define threshold in stats\n",
    "- Check Multithreading/Processing Debugging in Monitor System Resources"
   ]
  },
  {
   "cell_type": "code",
   "execution_count": 3,
   "metadata": {},
   "outputs": [
    {
     "data": {
      "application/vnd.jupyter.widget-view+json": {
       "model_id": "da088488c2cf4dcf9ce55d52f9a781bd",
       "version_major": 2,
       "version_minor": 0
      },
      "text/plain": [
       "Dropdown(description='Select Field:', options=('JonesCanyonSoutheast', 'Schaben', 'Marcotte', 'Cutter', 'Medic…"
      ]
     },
     "metadata": {},
     "output_type": "display_data"
    },
    {
     "data": {
      "application/vnd.jupyter.widget-view+json": {
       "model_id": "2014fc1f6bb147879b50db4cd92f8b60",
       "version_major": 2,
       "version_minor": 0
      },
      "text/plain": [
       "Button(description='Load Data', style=ButtonStyle())"
      ]
     },
     "metadata": {},
     "output_type": "display_data"
    },
    {
     "name": "stdout",
     "output_type": "stream",
     "text": [
      "Data for field JonesCanyonSoutheast loaded successfully.\n"
     ]
    }
   ],
   "source": [
    "# Import necessary modules\n",
    "from scripts.project_manager import ProjectManager\n",
    "from scripts.widgets import load_and_select_field\n",
    "\n",
    "# Create an instance of ProjectManager with the path to your data directory\n",
    "base_directory = '../data/v3.0_las_files'  # Replace with the path to your .las files\n",
    "project_manager = ProjectManager(base_directory)\n",
    "\n",
    "# Call the function to create and display the dropdown and button\n",
    "field_selector_widget = load_and_select_field(project_manager)\n",
    "\n",
    "project_manager.selected_curves = ['DT', 'GR', 'MI', 'MN', 'RHOB', 'RILD', 'RILM', 'SP']\n"
   ]
  },
  {
   "cell_type": "code",
   "execution_count": 4,
   "metadata": {},
   "outputs": [
    {
     "data": {
      "application/vnd.jupyter.widget-view+json": {
       "model_id": "7fd234271e1e4c6a9a05db0456d32b6d",
       "version_major": 2,
       "version_minor": 0
      },
      "text/plain": [
       "AppLayout(children=(HTML(value=\"<h1 style='text-align:center; background-color:lightblue; padding:10px;'>Jones…"
      ]
     },
     "metadata": {},
     "output_type": "display_data"
    }
   ],
   "source": [
    "from scripts.widgets import display_project_overview_curves\n",
    "\n",
    "display_project_overview_curves(project_manager)"
   ]
  },
  {
   "cell_type": "code",
   "execution_count": 1,
   "metadata": {},
   "outputs": [
    {
     "data": {
      "application/vnd.jupyter.widget-view+json": {
       "model_id": "321d5396d3934da7a209d927e5b0a50d",
       "version_major": 2,
       "version_minor": 0
      },
      "text/plain": [
       "Dropdown(description='Select Field:', options=('JonesCanyonSoutheast', 'Schaben', 'Marcotte', 'Cutter', 'Medic…"
      ]
     },
     "metadata": {},
     "output_type": "display_data"
    },
    {
     "data": {
      "application/vnd.jupyter.widget-view+json": {
       "model_id": "6af429379860418f8fdef958fabc5c82",
       "version_major": 2,
       "version_minor": 0
      },
      "text/plain": [
       "Button(description='Load Data', style=ButtonStyle())"
      ]
     },
     "metadata": {},
     "output_type": "display_data"
    },
    {
     "name": "stdout",
     "output_type": "stream",
     "text": [
      "Data for field JonesCanyonSoutheast loaded successfully.\n"
     ]
    }
   ],
   "source": [
    "# Import necessary modules\n",
    "from scripts.project_manager import ProjectManager\n",
    "from scripts.widgets import load_and_select_field\n",
    "\n",
    "# Create an instance of ProjectManager with the path to your data directory\n",
    "base_directory = '../data/v3.0_las_files'  # Replace with the path to your .las files\n",
    "project_manager = ProjectManager(base_directory)\n",
    "\n",
    "# Call the function to create and display the dropdown and button\n",
    "field_selector_widget = load_and_select_field(project_manager)\n",
    "\n",
    "project_manager.selected_curves = ['DT', 'GR', 'MI', 'MN', 'RHOB', 'RILD', 'RILM', 'SP']"
   ]
  },
  {
   "cell_type": "code",
   "execution_count": 2,
   "metadata": {},
   "outputs": [
    {
     "ename": "TypeError",
     "evalue": "'ProjectManager' object is not iterable",
     "output_type": "error",
     "traceback": [
      "\u001b[0;31m---------------------------------------------------------------------------\u001b[0m",
      "\u001b[0;31mTypeError\u001b[0m                                 Traceback (most recent call last)",
      "Cell \u001b[0;32mIn[2], line 3\u001b[0m\n\u001b[1;32m      1\u001b[0m \u001b[38;5;28;01mfrom\u001b[39;00m \u001b[38;5;21;01mscripts\u001b[39;00m\u001b[38;5;21;01m.\u001b[39;00m\u001b[38;5;21;01mwidgets\u001b[39;00m \u001b[38;5;28;01mimport\u001b[39;00m plot_welly_curves\n\u001b[0;32m----> 3\u001b[0m \u001b[43mplot_welly_curves\u001b[49m\u001b[43m(\u001b[49m\u001b[43mproject_manager\u001b[49m\u001b[43m,\u001b[49m\u001b[43m \u001b[49m\u001b[43mproject_manager\u001b[49m\u001b[38;5;241;43m.\u001b[39;49m\u001b[43mselected_curves\u001b[49m\u001b[43m)\u001b[49m\n",
      "File \u001b[0;32m~/Kansas/code/scripts/widgets.py:282\u001b[0m, in \u001b[0;36mplot_welly_curves\u001b[0;34m(project, selected_curves)\u001b[0m\n\u001b[1;32m    280\u001b[0m \u001b[38;5;28;01mfor\u001b[39;00m curve \u001b[38;5;129;01min\u001b[39;00m selected_curves:\n\u001b[1;32m    281\u001b[0m     fig, ax \u001b[38;5;241m=\u001b[39m plt\u001b[38;5;241m.\u001b[39msubplots(figsize\u001b[38;5;241m=\u001b[39m(\u001b[38;5;241m10\u001b[39m, \u001b[38;5;241m5\u001b[39m))\n\u001b[0;32m--> 282\u001b[0m     \u001b[38;5;28;01mfor\u001b[39;00m well \u001b[38;5;129;01min\u001b[39;00m project:\n\u001b[1;32m    283\u001b[0m         \u001b[38;5;28;01mif\u001b[39;00m curve \u001b[38;5;129;01min\u001b[39;00m well\u001b[38;5;241m.\u001b[39mdata:\n\u001b[1;32m    284\u001b[0m             \u001b[38;5;66;03m# Use welly's plot method\u001b[39;00m\n\u001b[1;32m    285\u001b[0m             well\u001b[38;5;241m.\u001b[39mdata[curve]\u001b[38;5;241m.\u001b[39mplot(ax\u001b[38;5;241m=\u001b[39max, label\u001b[38;5;241m=\u001b[39m\u001b[38;5;124mf\u001b[39m\u001b[38;5;124m'\u001b[39m\u001b[38;5;132;01m{\u001b[39;00mwell\u001b[38;5;241m.\u001b[39mname\u001b[38;5;132;01m}\u001b[39;00m\u001b[38;5;124m - \u001b[39m\u001b[38;5;132;01m{\u001b[39;00mcurve\u001b[38;5;132;01m}\u001b[39;00m\u001b[38;5;124m'\u001b[39m)\n",
      "\u001b[0;31mTypeError\u001b[0m: 'ProjectManager' object is not iterable"
     ]
    },
    {
     "data": {
      "image/png": "[encoded data removed]",
      "text/plain": [
       "<Figure size 1000x500 with 1 Axes>"
      ]
     },
     "metadata": {},
     "output_type": "display_data"
    }
   ],
   "source": [
    "from scripts.widgets import plot_welly_curves\n",
    "\n",
    "plot_welly_curves(project_manager, project_manager.selected_curves)"
   ]
  },
  {
   "cell_type": "code",
   "execution_count": 4,
   "metadata": {},
   "outputs": [
    {
     "data": {
      "application/vnd.jupyter.widget-view+json": {
       "model_id": "3c8f7619cc3e42138222cf5b4d259558",
       "version_major": 2,
       "version_minor": 0
      },
      "text/plain": [
       "AppLayout(children=(SelectMultiple(description='Select Curves:', layout=Layout(grid_area='left-sidebar', heigh…"
      ]
     },
     "metadata": {},
     "output_type": "display_data"
    }
   ],
   "source": [
    "from scripts.widgets import display_statistics\n",
    "\n",
    "display_statistics(project_manager)"
   ]
  }
 ],
 "metadata": {
  "kernelspec": {
   "display_name": "petro",
   "language": "python",
   "name": "python3"
  },
  "language_info": {
   "codemirror_mode": {
    "name": "ipython",
    "version": 3
   },
   "file_extension": ".py",
   "mimetype": "text/x-python",
   "name": "python",
   "nbconvert_exporter": "python",
   "pygments_lexer": "ipython3",
   "version": "3.10.13"
  }
 },
 "nbformat": 4,
 "nbformat_minor": 2
}
